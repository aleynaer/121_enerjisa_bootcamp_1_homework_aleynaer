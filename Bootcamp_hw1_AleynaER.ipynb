{
 "cells": [
  {
   "cell_type": "markdown",
   "id": "specific-stanley",
   "metadata": {},
   "source": [
    "# EnerjiSA & Patika Veri Bilimi ve Analitiği Bootcamp\n",
    "## Ödev 1, 07.10.2021\n",
    "\n",
    "\n",
    "Proje Sahibi: Aleyna ER\n",
    "\n",
    "### _Q1: Pandas kütüphanesiyle bir DataFrame oluşturup ve içine Levels of Measurements'ları nominal, ordinal, interval ve ratio olan kolonlar ekleyelim._\n",
    "\n"
   ]
  },
  {
   "cell_type": "code",
   "execution_count": 1,
   "id": "prime-freeze",
   "metadata": {},
   "outputs": [
    {
     "data": {
      "text/html": [
       "<div>\n",
       "<style scoped>\n",
       "    .dataframe tbody tr th:only-of-type {\n",
       "        vertical-align: middle;\n",
       "    }\n",
       "\n",
       "    .dataframe tbody tr th {\n",
       "        vertical-align: top;\n",
       "    }\n",
       "\n",
       "    .dataframe thead th {\n",
       "        text-align: right;\n",
       "    }\n",
       "</style>\n",
       "<table border=\"1\" class=\"dataframe\">\n",
       "  <thead>\n",
       "    <tr style=\"text-align: right;\">\n",
       "      <th></th>\n",
       "      <th>Name</th>\n",
       "      <th>Salary</th>\n",
       "      <th>Level_of_edu</th>\n",
       "      <th>Credit_score</th>\n",
       "    </tr>\n",
       "  </thead>\n",
       "  <tbody>\n",
       "    <tr>\n",
       "      <th>0</th>\n",
       "      <td>Ayşe Çelik</td>\n",
       "      <td>60000</td>\n",
       "      <td>Doktora</td>\n",
       "      <td>500</td>\n",
       "    </tr>\n",
       "    <tr>\n",
       "      <th>1</th>\n",
       "      <td>Ali Yılmaz</td>\n",
       "      <td>25000</td>\n",
       "      <td>Lise</td>\n",
       "      <td>670</td>\n",
       "    </tr>\n",
       "    <tr>\n",
       "      <th>2</th>\n",
       "      <td>Kerim Korkmaz</td>\n",
       "      <td>50000</td>\n",
       "      <td>Yüksek Lisans</td>\n",
       "      <td>550</td>\n",
       "    </tr>\n",
       "    <tr>\n",
       "      <th>3</th>\n",
       "      <td>Pelin Demir</td>\n",
       "      <td>38000</td>\n",
       "      <td>Ön Lisans</td>\n",
       "      <td>515</td>\n",
       "    </tr>\n",
       "    <tr>\n",
       "      <th>4</th>\n",
       "      <td>Metin Gençtürk</td>\n",
       "      <td>45000</td>\n",
       "      <td>Lisans</td>\n",
       "      <td>380</td>\n",
       "    </tr>\n",
       "    <tr>\n",
       "      <th>5</th>\n",
       "      <td>Ahmet Genç</td>\n",
       "      <td>15000</td>\n",
       "      <td>İlkokul</td>\n",
       "      <td>310</td>\n",
       "    </tr>\n",
       "  </tbody>\n",
       "</table>\n",
       "</div>"
      ],
      "text/plain": [
       "             Name  Salary   Level_of_edu  Credit_score\n",
       "0      Ayşe Çelik   60000        Doktora           500\n",
       "1      Ali Yılmaz   25000           Lise           670\n",
       "2   Kerim Korkmaz   50000  Yüksek Lisans           550\n",
       "3     Pelin Demir   38000      Ön Lisans           515\n",
       "4  Metin Gençtürk   45000         Lisans           380\n",
       "5      Ahmet Genç   15000        İlkokul           310"
      ]
     },
     "execution_count": 1,
     "metadata": {},
     "output_type": "execute_result"
    }
   ],
   "source": [
    "import pandas as pd\n",
    "import numpy as np\n",
    "\n",
    "data = [(\"Ayşe Çelik\",60000,\"Doktora\", 500),\n",
    "        (\"Ali Yılmaz\", 25000, \"Lise\",670),\n",
    "        (\"Kerim Korkmaz\",50000, \"Yüksek Lisans\",550),\n",
    "        (\"Pelin Demir\",38000, \"Ön Lisans\",515),\n",
    "        (\"Metin Gençtürk\", 45000, \"Lisans\", 380),\n",
    "        (\"Ahmet Genç\",15000,\"İlkokul\",310)]\n",
    "df = pd.DataFrame(data, columns = [\"Name\",\"Salary\",\"Level_of_edu\",\"Credit_score\"])\n",
    "df\n",
    "\n",
    "# credit score values can vary between 300-850"
   ]
  },
  {
   "cell_type": "code",
   "execution_count": 2,
   "id": "surrounded-salad",
   "metadata": {},
   "outputs": [
    {
     "data": {
      "text/plain": [
       "array([2, 1, 3, 5, 4, 0])"
      ]
     },
     "execution_count": 2,
     "metadata": {},
     "output_type": "execute_result"
    }
   ],
   "source": [
    "from sklearn import preprocessing\n",
    "\n",
    "label_enc = preprocessing.LabelEncoder()\n",
    "\n",
    "names = df[\"Name\"].values\n",
    "names = label_enc.fit_transform(names)\n",
    "names # name nominal tipte bir değer"
   ]
  },
  {
   "cell_type": "code",
   "execution_count": 3,
   "id": "plain-animation",
   "metadata": {},
   "outputs": [
    {
     "data": {
      "text/plain": [
       "array(['Doktora', 'Lise', 'Yüksek Lisans', 'Ön Lisans', 'Lisans',\n",
       "       'İlkokul'], dtype=object)"
      ]
     },
     "execution_count": 3,
     "metadata": {},
     "output_type": "execute_result"
    }
   ],
   "source": [
    "education = df[\"Level_of_edu\"].values\n",
    "mapper = {\"İlkokul\":0, \"Lise\":1,\"Ön Lisans\":2,\"Lisans\":3,\"Yüksek Lisans\":4,\"Doktora\":5}\n",
    "mapper.keys()\n",
    "education"
   ]
  },
  {
   "cell_type": "code",
   "execution_count": 4,
   "id": "swedish-contributor",
   "metadata": {},
   "outputs": [
    {
     "data": {
      "text/plain": [
       "0    5\n",
       "1    1\n",
       "2    4\n",
       "3    2\n",
       "4    3\n",
       "5    0\n",
       "Name: Level_of_edu, dtype: int64"
      ]
     },
     "execution_count": 4,
     "metadata": {},
     "output_type": "execute_result"
    }
   ],
   "source": [
    "edu_mapped = df[\"Level_of_edu\"].replace(mapper)\n",
    "edu_mapped # eğitim kolonuna ordinal özellik katmış olduk"
   ]
  },
  {
   "cell_type": "code",
   "execution_count": 5,
   "id": "seasonal-security",
   "metadata": {},
   "outputs": [
    {
     "data": {
      "text/html": [
       "<div>\n",
       "<style scoped>\n",
       "    .dataframe tbody tr th:only-of-type {\n",
       "        vertical-align: middle;\n",
       "    }\n",
       "\n",
       "    .dataframe tbody tr th {\n",
       "        vertical-align: top;\n",
       "    }\n",
       "\n",
       "    .dataframe thead th {\n",
       "        text-align: right;\n",
       "    }\n",
       "</style>\n",
       "<table border=\"1\" class=\"dataframe\">\n",
       "  <thead>\n",
       "    <tr style=\"text-align: right;\">\n",
       "      <th></th>\n",
       "      <th>Name</th>\n",
       "      <th>Salary</th>\n",
       "      <th>Level_of_edu</th>\n",
       "      <th>Credit_score</th>\n",
       "      <th>mapped name</th>\n",
       "      <th>mapped education</th>\n",
       "    </tr>\n",
       "  </thead>\n",
       "  <tbody>\n",
       "    <tr>\n",
       "      <th>0</th>\n",
       "      <td>Ayşe Çelik</td>\n",
       "      <td>60000</td>\n",
       "      <td>Doktora</td>\n",
       "      <td>500</td>\n",
       "      <td>2</td>\n",
       "      <td>5</td>\n",
       "    </tr>\n",
       "    <tr>\n",
       "      <th>1</th>\n",
       "      <td>Ali Yılmaz</td>\n",
       "      <td>25000</td>\n",
       "      <td>Lise</td>\n",
       "      <td>670</td>\n",
       "      <td>1</td>\n",
       "      <td>1</td>\n",
       "    </tr>\n",
       "    <tr>\n",
       "      <th>2</th>\n",
       "      <td>Kerim Korkmaz</td>\n",
       "      <td>50000</td>\n",
       "      <td>Yüksek Lisans</td>\n",
       "      <td>550</td>\n",
       "      <td>3</td>\n",
       "      <td>4</td>\n",
       "    </tr>\n",
       "    <tr>\n",
       "      <th>3</th>\n",
       "      <td>Pelin Demir</td>\n",
       "      <td>38000</td>\n",
       "      <td>Ön Lisans</td>\n",
       "      <td>515</td>\n",
       "      <td>5</td>\n",
       "      <td>2</td>\n",
       "    </tr>\n",
       "    <tr>\n",
       "      <th>4</th>\n",
       "      <td>Metin Gençtürk</td>\n",
       "      <td>45000</td>\n",
       "      <td>Lisans</td>\n",
       "      <td>380</td>\n",
       "      <td>4</td>\n",
       "      <td>3</td>\n",
       "    </tr>\n",
       "    <tr>\n",
       "      <th>5</th>\n",
       "      <td>Ahmet Genç</td>\n",
       "      <td>15000</td>\n",
       "      <td>İlkokul</td>\n",
       "      <td>310</td>\n",
       "      <td>0</td>\n",
       "      <td>0</td>\n",
       "    </tr>\n",
       "  </tbody>\n",
       "</table>\n",
       "</div>"
      ],
      "text/plain": [
       "             Name  Salary   Level_of_edu  Credit_score  mapped name  \\\n",
       "0      Ayşe Çelik   60000        Doktora           500            2   \n",
       "1      Ali Yılmaz   25000           Lise           670            1   \n",
       "2   Kerim Korkmaz   50000  Yüksek Lisans           550            3   \n",
       "3     Pelin Demir   38000      Ön Lisans           515            5   \n",
       "4  Metin Gençtürk   45000         Lisans           380            4   \n",
       "5      Ahmet Genç   15000        İlkokul           310            0   \n",
       "\n",
       "   mapped education  \n",
       "0                 5  \n",
       "1                 1  \n",
       "2                 4  \n",
       "3                 2  \n",
       "4                 3  \n",
       "5                 0  "
      ]
     },
     "execution_count": 5,
     "metadata": {},
     "output_type": "execute_result"
    }
   ],
   "source": [
    "df[\"mapped name\"] = names\n",
    "df[\"mapped education\"] = edu_mapped\n",
    "df"
   ]
  },
  {
   "cell_type": "code",
   "execution_count": 6,
   "id": "enhanced-syria",
   "metadata": {},
   "outputs": [
    {
     "data": {
      "text/plain": [
       "array([60000, 25000, 50000, 38000, 45000, 15000], dtype=int64)"
      ]
     },
     "execution_count": 6,
     "metadata": {},
     "output_type": "execute_result"
    }
   ],
   "source": [
    "x = df[\"Salary\"].values\n",
    "x #ratio veriyi int64 olarak bırakabiliriz"
   ]
  },
  {
   "cell_type": "code",
   "execution_count": 7,
   "id": "integrated-junction",
   "metadata": {},
   "outputs": [
    {
     "data": {
      "text/html": [
       "<div>\n",
       "<style scoped>\n",
       "    .dataframe tbody tr th:only-of-type {\n",
       "        vertical-align: middle;\n",
       "    }\n",
       "\n",
       "    .dataframe tbody tr th {\n",
       "        vertical-align: top;\n",
       "    }\n",
       "\n",
       "    .dataframe thead th {\n",
       "        text-align: right;\n",
       "    }\n",
       "</style>\n",
       "<table border=\"1\" class=\"dataframe\">\n",
       "  <thead>\n",
       "    <tr style=\"text-align: right;\">\n",
       "      <th></th>\n",
       "      <th>Name</th>\n",
       "      <th>Salary</th>\n",
       "      <th>Level_of_edu</th>\n",
       "      <th>Credit_score</th>\n",
       "      <th>mapped name</th>\n",
       "      <th>mapped education</th>\n",
       "      <th>credit_mapped</th>\n",
       "    </tr>\n",
       "  </thead>\n",
       "  <tbody>\n",
       "    <tr>\n",
       "      <th>0</th>\n",
       "      <td>Ayşe Çelik</td>\n",
       "      <td>60000</td>\n",
       "      <td>Doktora</td>\n",
       "      <td>500</td>\n",
       "      <td>2</td>\n",
       "      <td>5</td>\n",
       "      <td>A</td>\n",
       "    </tr>\n",
       "    <tr>\n",
       "      <th>1</th>\n",
       "      <td>Ali Yılmaz</td>\n",
       "      <td>25000</td>\n",
       "      <td>Lise</td>\n",
       "      <td>670</td>\n",
       "      <td>1</td>\n",
       "      <td>1</td>\n",
       "      <td>B</td>\n",
       "    </tr>\n",
       "    <tr>\n",
       "      <th>2</th>\n",
       "      <td>Kerim Korkmaz</td>\n",
       "      <td>50000</td>\n",
       "      <td>Yüksek Lisans</td>\n",
       "      <td>550</td>\n",
       "      <td>3</td>\n",
       "      <td>4</td>\n",
       "      <td>B</td>\n",
       "    </tr>\n",
       "    <tr>\n",
       "      <th>3</th>\n",
       "      <td>Pelin Demir</td>\n",
       "      <td>38000</td>\n",
       "      <td>Ön Lisans</td>\n",
       "      <td>515</td>\n",
       "      <td>5</td>\n",
       "      <td>2</td>\n",
       "      <td>B</td>\n",
       "    </tr>\n",
       "    <tr>\n",
       "      <th>4</th>\n",
       "      <td>Metin Gençtürk</td>\n",
       "      <td>45000</td>\n",
       "      <td>Lisans</td>\n",
       "      <td>380</td>\n",
       "      <td>4</td>\n",
       "      <td>3</td>\n",
       "      <td>C</td>\n",
       "    </tr>\n",
       "    <tr>\n",
       "      <th>5</th>\n",
       "      <td>Ahmet Genç</td>\n",
       "      <td>15000</td>\n",
       "      <td>İlkokul</td>\n",
       "      <td>310</td>\n",
       "      <td>0</td>\n",
       "      <td>0</td>\n",
       "      <td>C</td>\n",
       "    </tr>\n",
       "  </tbody>\n",
       "</table>\n",
       "</div>"
      ],
      "text/plain": [
       "             Name  Salary   Level_of_edu  Credit_score  mapped name  \\\n",
       "0      Ayşe Çelik   60000        Doktora           500            2   \n",
       "1      Ali Yılmaz   25000           Lise           670            1   \n",
       "2   Kerim Korkmaz   50000  Yüksek Lisans           550            3   \n",
       "3     Pelin Demir   38000      Ön Lisans           515            5   \n",
       "4  Metin Gençtürk   45000         Lisans           380            4   \n",
       "5      Ahmet Genç   15000        İlkokul           310            0   \n",
       "\n",
       "   mapped education credit_mapped  \n",
       "0                 5             A  \n",
       "1                 1             B  \n",
       "2                 4             B  \n",
       "3                 2             B  \n",
       "4                 3             C  \n",
       "5                 0             C  "
      ]
     },
     "execution_count": 7,
     "metadata": {},
     "output_type": "execute_result"
    }
   ],
   "source": [
    "# credit score interval bir değer, aldığı değerleri aralıklara bölerek temsil edebiliriz\n",
    "\n",
    "df[\"credit_mapped\"] = ''\n",
    "for i in range(len(df)):\n",
    "    value = df[\"Credit_score\"].values[i]\n",
    "    if(value > 850 or value < 300):\n",
    "        df[\"credit_mapped\"].values[i] = None\n",
    "    elif(value > 300 and value < 500):\n",
    "        df[\"credit_mapped\"].values[i] = \"C\"\n",
    "    elif(value > 500 and value < 700):\n",
    "        df[\"credit_mapped\"].values[i] = \"B\"\n",
    "    else:\n",
    "        df[\"credit_mapped\"].values[i] = \"A\"\n",
    "    #print(value)\n",
    "df"
   ]
  },
  {
   "cell_type": "markdown",
   "id": "northern-credit",
   "metadata": {},
   "source": [
    "### _Q2: Ekli data üzerindeki aşağıda yer alan kolonların count, mean, std, min, 25%, 50%, 75%, max değerlerini ve IQR metoduyla outlier kalan veri sayısını çıkartıp, bu değerleri sözel ve karşılaştırmalı olarak yorumlayalım._"
   ]
  },
  {
   "cell_type": "code",
   "execution_count": 8,
   "id": "temporal-wales",
   "metadata": {},
   "outputs": [
    {
     "data": {
      "text/html": [
       "<div>\n",
       "<style scoped>\n",
       "    .dataframe tbody tr th:only-of-type {\n",
       "        vertical-align: middle;\n",
       "    }\n",
       "\n",
       "    .dataframe tbody tr th {\n",
       "        vertical-align: top;\n",
       "    }\n",
       "\n",
       "    .dataframe thead th {\n",
       "        text-align: right;\n",
       "    }\n",
       "</style>\n",
       "<table border=\"1\" class=\"dataframe\">\n",
       "  <thead>\n",
       "    <tr style=\"text-align: right;\">\n",
       "      <th></th>\n",
       "      <th>id</th>\n",
       "      <th>diagnosis</th>\n",
       "      <th>radius_mean</th>\n",
       "      <th>texture_mean</th>\n",
       "      <th>perimeter_mean</th>\n",
       "      <th>area_mean</th>\n",
       "      <th>smoothness_mean</th>\n",
       "      <th>compactness_mean</th>\n",
       "      <th>concavity_mean</th>\n",
       "      <th>concave points_mean</th>\n",
       "      <th>...</th>\n",
       "      <th>texture_worst</th>\n",
       "      <th>perimeter_worst</th>\n",
       "      <th>area_worst</th>\n",
       "      <th>smoothness_worst</th>\n",
       "      <th>compactness_worst</th>\n",
       "      <th>concavity_worst</th>\n",
       "      <th>concave points_worst</th>\n",
       "      <th>symmetry_worst</th>\n",
       "      <th>fractal_dimension_worst</th>\n",
       "      <th>Unnamed: 32</th>\n",
       "    </tr>\n",
       "  </thead>\n",
       "  <tbody>\n",
       "    <tr>\n",
       "      <th>0</th>\n",
       "      <td>842302</td>\n",
       "      <td>M</td>\n",
       "      <td>17.99</td>\n",
       "      <td>10.38</td>\n",
       "      <td>122.80</td>\n",
       "      <td>1001.0</td>\n",
       "      <td>0.11840</td>\n",
       "      <td>0.27760</td>\n",
       "      <td>0.3001</td>\n",
       "      <td>0.14710</td>\n",
       "      <td>...</td>\n",
       "      <td>17.33</td>\n",
       "      <td>184.60</td>\n",
       "      <td>2019.0</td>\n",
       "      <td>0.1622</td>\n",
       "      <td>0.6656</td>\n",
       "      <td>0.7119</td>\n",
       "      <td>0.2654</td>\n",
       "      <td>0.4601</td>\n",
       "      <td>0.11890</td>\n",
       "      <td>NaN</td>\n",
       "    </tr>\n",
       "    <tr>\n",
       "      <th>1</th>\n",
       "      <td>842517</td>\n",
       "      <td>M</td>\n",
       "      <td>20.57</td>\n",
       "      <td>17.77</td>\n",
       "      <td>132.90</td>\n",
       "      <td>1326.0</td>\n",
       "      <td>0.08474</td>\n",
       "      <td>0.07864</td>\n",
       "      <td>0.0869</td>\n",
       "      <td>0.07017</td>\n",
       "      <td>...</td>\n",
       "      <td>23.41</td>\n",
       "      <td>158.80</td>\n",
       "      <td>1956.0</td>\n",
       "      <td>0.1238</td>\n",
       "      <td>0.1866</td>\n",
       "      <td>0.2416</td>\n",
       "      <td>0.1860</td>\n",
       "      <td>0.2750</td>\n",
       "      <td>0.08902</td>\n",
       "      <td>NaN</td>\n",
       "    </tr>\n",
       "    <tr>\n",
       "      <th>2</th>\n",
       "      <td>84300903</td>\n",
       "      <td>M</td>\n",
       "      <td>19.69</td>\n",
       "      <td>21.25</td>\n",
       "      <td>130.00</td>\n",
       "      <td>1203.0</td>\n",
       "      <td>0.10960</td>\n",
       "      <td>0.15990</td>\n",
       "      <td>0.1974</td>\n",
       "      <td>0.12790</td>\n",
       "      <td>...</td>\n",
       "      <td>25.53</td>\n",
       "      <td>152.50</td>\n",
       "      <td>1709.0</td>\n",
       "      <td>0.1444</td>\n",
       "      <td>0.4245</td>\n",
       "      <td>0.4504</td>\n",
       "      <td>0.2430</td>\n",
       "      <td>0.3613</td>\n",
       "      <td>0.08758</td>\n",
       "      <td>NaN</td>\n",
       "    </tr>\n",
       "    <tr>\n",
       "      <th>3</th>\n",
       "      <td>84348301</td>\n",
       "      <td>M</td>\n",
       "      <td>11.42</td>\n",
       "      <td>20.38</td>\n",
       "      <td>77.58</td>\n",
       "      <td>386.1</td>\n",
       "      <td>0.14250</td>\n",
       "      <td>0.28390</td>\n",
       "      <td>0.2414</td>\n",
       "      <td>0.10520</td>\n",
       "      <td>...</td>\n",
       "      <td>26.50</td>\n",
       "      <td>98.87</td>\n",
       "      <td>567.7</td>\n",
       "      <td>0.2098</td>\n",
       "      <td>0.8663</td>\n",
       "      <td>0.6869</td>\n",
       "      <td>0.2575</td>\n",
       "      <td>0.6638</td>\n",
       "      <td>0.17300</td>\n",
       "      <td>NaN</td>\n",
       "    </tr>\n",
       "    <tr>\n",
       "      <th>4</th>\n",
       "      <td>84358402</td>\n",
       "      <td>M</td>\n",
       "      <td>20.29</td>\n",
       "      <td>14.34</td>\n",
       "      <td>135.10</td>\n",
       "      <td>1297.0</td>\n",
       "      <td>0.10030</td>\n",
       "      <td>0.13280</td>\n",
       "      <td>0.1980</td>\n",
       "      <td>0.10430</td>\n",
       "      <td>...</td>\n",
       "      <td>16.67</td>\n",
       "      <td>152.20</td>\n",
       "      <td>1575.0</td>\n",
       "      <td>0.1374</td>\n",
       "      <td>0.2050</td>\n",
       "      <td>0.4000</td>\n",
       "      <td>0.1625</td>\n",
       "      <td>0.2364</td>\n",
       "      <td>0.07678</td>\n",
       "      <td>NaN</td>\n",
       "    </tr>\n",
       "  </tbody>\n",
       "</table>\n",
       "<p>5 rows × 33 columns</p>\n",
       "</div>"
      ],
      "text/plain": [
       "         id diagnosis  radius_mean  texture_mean  perimeter_mean  area_mean  \\\n",
       "0    842302         M        17.99         10.38          122.80     1001.0   \n",
       "1    842517         M        20.57         17.77          132.90     1326.0   \n",
       "2  84300903         M        19.69         21.25          130.00     1203.0   \n",
       "3  84348301         M        11.42         20.38           77.58      386.1   \n",
       "4  84358402         M        20.29         14.34          135.10     1297.0   \n",
       "\n",
       "   smoothness_mean  compactness_mean  concavity_mean  concave points_mean  \\\n",
       "0          0.11840           0.27760          0.3001              0.14710   \n",
       "1          0.08474           0.07864          0.0869              0.07017   \n",
       "2          0.10960           0.15990          0.1974              0.12790   \n",
       "3          0.14250           0.28390          0.2414              0.10520   \n",
       "4          0.10030           0.13280          0.1980              0.10430   \n",
       "\n",
       "   ...  texture_worst  perimeter_worst  area_worst  smoothness_worst  \\\n",
       "0  ...          17.33           184.60      2019.0            0.1622   \n",
       "1  ...          23.41           158.80      1956.0            0.1238   \n",
       "2  ...          25.53           152.50      1709.0            0.1444   \n",
       "3  ...          26.50            98.87       567.7            0.2098   \n",
       "4  ...          16.67           152.20      1575.0            0.1374   \n",
       "\n",
       "   compactness_worst  concavity_worst  concave points_worst  symmetry_worst  \\\n",
       "0             0.6656           0.7119                0.2654          0.4601   \n",
       "1             0.1866           0.2416                0.1860          0.2750   \n",
       "2             0.4245           0.4504                0.2430          0.3613   \n",
       "3             0.8663           0.6869                0.2575          0.6638   \n",
       "4             0.2050           0.4000                0.1625          0.2364   \n",
       "\n",
       "   fractal_dimension_worst  Unnamed: 32  \n",
       "0                  0.11890          NaN  \n",
       "1                  0.08902          NaN  \n",
       "2                  0.08758          NaN  \n",
       "3                  0.17300          NaN  \n",
       "4                  0.07678          NaN  \n",
       "\n",
       "[5 rows x 33 columns]"
      ]
     },
     "execution_count": 8,
     "metadata": {},
     "output_type": "execute_result"
    }
   ],
   "source": [
    "adr = r\"C:\\Users\\Asus\\Downloads\\data.csv\"\n",
    "data = pd.read_csv(adr)\n",
    "data.head()"
   ]
  },
  {
   "cell_type": "code",
   "execution_count": 9,
   "id": "stopped-regard",
   "metadata": {},
   "outputs": [
    {
     "data": {
      "text/html": [
       "<div>\n",
       "<style scoped>\n",
       "    .dataframe tbody tr th:only-of-type {\n",
       "        vertical-align: middle;\n",
       "    }\n",
       "\n",
       "    .dataframe tbody tr th {\n",
       "        vertical-align: top;\n",
       "    }\n",
       "\n",
       "    .dataframe thead th {\n",
       "        text-align: right;\n",
       "    }\n",
       "</style>\n",
       "<table border=\"1\" class=\"dataframe\">\n",
       "  <thead>\n",
       "    <tr style=\"text-align: right;\">\n",
       "      <th></th>\n",
       "      <th>radius_mean</th>\n",
       "      <th>area_mean</th>\n",
       "      <th>compactness_mean</th>\n",
       "    </tr>\n",
       "  </thead>\n",
       "  <tbody>\n",
       "    <tr>\n",
       "      <th>count</th>\n",
       "      <td>569.000000</td>\n",
       "      <td>569.000000</td>\n",
       "      <td>569.000000</td>\n",
       "    </tr>\n",
       "    <tr>\n",
       "      <th>mean</th>\n",
       "      <td>14.127292</td>\n",
       "      <td>654.889104</td>\n",
       "      <td>0.104341</td>\n",
       "    </tr>\n",
       "    <tr>\n",
       "      <th>std</th>\n",
       "      <td>3.524049</td>\n",
       "      <td>351.914129</td>\n",
       "      <td>0.052813</td>\n",
       "    </tr>\n",
       "    <tr>\n",
       "      <th>min</th>\n",
       "      <td>6.981000</td>\n",
       "      <td>143.500000</td>\n",
       "      <td>0.019380</td>\n",
       "    </tr>\n",
       "    <tr>\n",
       "      <th>25%</th>\n",
       "      <td>11.700000</td>\n",
       "      <td>420.300000</td>\n",
       "      <td>0.064920</td>\n",
       "    </tr>\n",
       "    <tr>\n",
       "      <th>50%</th>\n",
       "      <td>13.370000</td>\n",
       "      <td>551.100000</td>\n",
       "      <td>0.092630</td>\n",
       "    </tr>\n",
       "    <tr>\n",
       "      <th>75%</th>\n",
       "      <td>15.780000</td>\n",
       "      <td>782.700000</td>\n",
       "      <td>0.130400</td>\n",
       "    </tr>\n",
       "    <tr>\n",
       "      <th>max</th>\n",
       "      <td>28.110000</td>\n",
       "      <td>2501.000000</td>\n",
       "      <td>0.345400</td>\n",
       "    </tr>\n",
       "  </tbody>\n",
       "</table>\n",
       "</div>"
      ],
      "text/plain": [
       "       radius_mean    area_mean  compactness_mean\n",
       "count   569.000000   569.000000        569.000000\n",
       "mean     14.127292   654.889104          0.104341\n",
       "std       3.524049   351.914129          0.052813\n",
       "min       6.981000   143.500000          0.019380\n",
       "25%      11.700000   420.300000          0.064920\n",
       "50%      13.370000   551.100000          0.092630\n",
       "75%      15.780000   782.700000          0.130400\n",
       "max      28.110000  2501.000000          0.345400"
      ]
     },
     "execution_count": 9,
     "metadata": {},
     "output_type": "execute_result"
    }
   ],
   "source": [
    "df_filter = [\"radius_mean\", \"area_mean\", \"compactness_mean\"]\n",
    "filtered_data = data[df_filter]\n",
    "filtered_data.describe()"
   ]
  },
  {
   "cell_type": "code",
   "execution_count": 10,
   "id": "arabic-crisis",
   "metadata": {},
   "outputs": [
    {
     "data": {
      "text/plain": [
       "4.08"
      ]
     },
     "execution_count": 10,
     "metadata": {},
     "output_type": "execute_result"
    }
   ],
   "source": [
    "from scipy.stats import iqr\n",
    "\n",
    "r_iqr = iqr(filtered_data[\"radius_mean\"])\n",
    "r_iqr"
   ]
  },
  {
   "cell_type": "code",
   "execution_count": 11,
   "id": "desperate-audit",
   "metadata": {},
   "outputs": [
    {
     "data": {
      "text/plain": [
       "11.7"
      ]
     },
     "execution_count": 11,
     "metadata": {},
     "output_type": "execute_result"
    }
   ],
   "source": [
    "radius = np.array(filtered_data[\"radius_mean\"])\n",
    "r_q1 = np.percentile(radius,25)\n",
    "r_q1"
   ]
  },
  {
   "cell_type": "code",
   "execution_count": 12,
   "id": "central-knight",
   "metadata": {},
   "outputs": [
    {
     "data": {
      "text/plain": [
       "15.78"
      ]
     },
     "execution_count": 12,
     "metadata": {},
     "output_type": "execute_result"
    }
   ],
   "source": [
    "r_q3 = np.percentile(radius,75)\n",
    "r_q3"
   ]
  },
  {
   "cell_type": "code",
   "execution_count": 13,
   "id": "limiting-accent",
   "metadata": {},
   "outputs": [
    {
     "data": {
      "text/plain": [
       "4.08"
      ]
     },
     "execution_count": 13,
     "metadata": {},
     "output_type": "execute_result"
    }
   ],
   "source": [
    "n_rIQR = r_q3 - r_q1\n",
    "n_rIQR # hazır fonk kullanmak istemezsek böyle de hesaplayabiliriz, sonuç aynı"
   ]
  },
  {
   "cell_type": "code",
   "execution_count": 14,
   "id": "martial-dublin",
   "metadata": {},
   "outputs": [
    {
     "name": "stdout",
     "output_type": "stream",
     "text": [
      "radius_mean inter quartile range from 5.579999999999999 to 21.9\n"
     ]
    }
   ],
   "source": [
    "r_low = r_q1 - 1.5 * r_iqr\n",
    "r_high = r_q3 + 1.5 * r_iqr\n",
    "print(\"radius_mean inter quartile range from {0} to {1}\".format(r_low,r_high)) # 7.61 - 19.86 arası dışındaki değerler outlier dır"
   ]
  },
  {
   "cell_type": "code",
   "execution_count": 15,
   "id": "operating-humanitarian",
   "metadata": {},
   "outputs": [
    {
     "data": {
      "text/plain": [
       "6.981     1\n",
       "7.691     1\n",
       "7.729     1\n",
       "7.760     1\n",
       "8.196     1\n",
       "         ..\n",
       "25.220    1\n",
       "25.730    1\n",
       "27.220    1\n",
       "27.420    1\n",
       "28.110    1\n",
       "Name: radius_mean, Length: 456, dtype: int64"
      ]
     },
     "execution_count": 15,
     "metadata": {},
     "output_type": "execute_result"
    }
   ],
   "source": [
    "#pd.options.display.max_rows = 600\n",
    "\n",
    "filtered_data[\"radius_mean\"].value_counts().sort_index(ascending=True)\n"
   ]
  },
  {
   "cell_type": "code",
   "execution_count": 16,
   "id": "intimate-pointer",
   "metadata": {},
   "outputs": [
    {
     "name": "stdout",
     "output_type": "stream",
     "text": [
      "number of outlier for radius_mean:  14\n"
     ]
    }
   ],
   "source": [
    "r_outliers = []\n",
    "\n",
    "for i in filtered_data[\"radius_mean\"].values:\n",
    "    if(i < r_low or i > r_high):\n",
    "        r_outliers.append(i)\n",
    "\n",
    "print(\"number of outlier for radius_mean: \" , len(r_outliers))"
   ]
  },
  {
   "cell_type": "code",
   "execution_count": 17,
   "id": "ideal-entrepreneur",
   "metadata": {},
   "outputs": [
    {
     "name": "stdout",
     "output_type": "stream",
     "text": [
      "area_mean inter quartile range from -123.30000000000001 to 1326.3000000000002\n"
     ]
    }
   ],
   "source": [
    "a_iqr = iqr(filtered_data[\"area_mean\"])\n",
    "\n",
    "area = np.array(filtered_data[\"area_mean\"])\n",
    "a_q1 = np.percentile(area,25)\n",
    "a_q3 = np.percentile(area,75)\n",
    "\n",
    "a_low = a_q1 - 1.5 * a_iqr\n",
    "a_high = a_q3 + 1.5 * a_iqr\n",
    "\n",
    "print(\"area_mean inter quartile range from {0} to {1}\".format(a_low,a_high))"
   ]
  },
  {
   "cell_type": "code",
   "execution_count": 18,
   "id": "decent-being",
   "metadata": {},
   "outputs": [
    {
     "data": {
      "text/plain": [
       "143.5     1\n",
       "170.4     1\n",
       "178.8     1\n",
       "181.0     1\n",
       "201.9     1\n",
       "         ..\n",
       "1878.0    1\n",
       "2010.0    1\n",
       "2250.0    1\n",
       "2499.0    1\n",
       "2501.0    1\n",
       "Name: area_mean, Length: 539, dtype: int64"
      ]
     },
     "execution_count": 18,
     "metadata": {},
     "output_type": "execute_result"
    }
   ],
   "source": [
    "filtered_data[\"area_mean\"].value_counts().sort_index(ascending=True)"
   ]
  },
  {
   "cell_type": "code",
   "execution_count": 19,
   "id": "difficult-operations",
   "metadata": {},
   "outputs": [
    {
     "name": "stdout",
     "output_type": "stream",
     "text": [
      "number of outliers for area_mean:  25\n"
     ]
    }
   ],
   "source": [
    "a_outliers = []\n",
    "\n",
    "for i in filtered_data[\"area_mean\"].values:\n",
    "    if(i < a_low or i > a_high):\n",
    "        a_outliers.append(i)\n",
    "\n",
    "print(\"number of outliers for area_mean: \" , len(a_outliers))"
   ]
  },
  {
   "cell_type": "code",
   "execution_count": 20,
   "id": "confused-postage",
   "metadata": {},
   "outputs": [
    {
     "name": "stdout",
     "output_type": "stream",
     "text": [
      "compactness_mean inter quartile range-0.03329999999999997 to 0.22861999999999996\n"
     ]
    }
   ],
   "source": [
    "c_iqr = iqr(filtered_data[\"compactness_mean\"])\n",
    "\n",
    "compactness = np.array(filtered_data[\"compactness_mean\"])\n",
    "c_q1 = np.percentile(compactness,25)\n",
    "c_q3 = np.percentile(compactness,75)\n",
    "\n",
    "c_low = c_q1 - 1.5 * c_iqr\n",
    "c_high = c_q3 + 1.5 * c_iqr\n",
    "\n",
    "print(\"compactness_mean inter quartile range{0} to {1}\".format(c_low,c_high))"
   ]
  },
  {
   "cell_type": "code",
   "execution_count": 21,
   "id": "prerequisite-sense",
   "metadata": {},
   "outputs": [
    {
     "data": {
      "text/plain": [
       "0.01938    1\n",
       "0.02344    1\n",
       "0.02650    1\n",
       "0.02675    1\n",
       "0.03116    1\n",
       "          ..\n",
       "0.28320    1\n",
       "0.28390    1\n",
       "0.28670    1\n",
       "0.31140    1\n",
       "0.34540    1\n",
       "Name: compactness_mean, Length: 537, dtype: int64"
      ]
     },
     "execution_count": 21,
     "metadata": {},
     "output_type": "execute_result"
    }
   ],
   "source": [
    "filtered_data[\"compactness_mean\"].value_counts().sort_index(ascending=True)"
   ]
  },
  {
   "cell_type": "code",
   "execution_count": 22,
   "id": "extended-preference",
   "metadata": {},
   "outputs": [
    {
     "name": "stdout",
     "output_type": "stream",
     "text": [
      "number of outliers for compactness_mean:  25\n"
     ]
    }
   ],
   "source": [
    "c_outliers = []\n",
    "\n",
    "for i in filtered_data[\"compactness_mean\"].values:\n",
    "    if(i < c_low or i > c_high):\n",
    "        c_outliers.append(i)\n",
    "\n",
    "print(\"number of outliers for compactness_mean: \" , len(a_outliers))"
   ]
  },
  {
   "cell_type": "markdown",
   "id": "dutch-bankruptcy",
   "metadata": {},
   "source": [
    "### _Q3: Ekli data üzerindeki aşağıda yer alan kolonların birbirleriyle olan korelasyonlarını, covaryanslarını, Pearson Correlation Coefficientlarını, Spearman Rank Coefficientlarını ve Effect Size'larını bularak sözel ve karşılaştırmalı olarak yorumlayalım._\n"
   ]
  },
  {
   "cell_type": "code",
   "execution_count": 23,
   "id": "marked-assignment",
   "metadata": {},
   "outputs": [
    {
     "data": {
      "text/html": [
       "<div>\n",
       "<style scoped>\n",
       "    .dataframe tbody tr th:only-of-type {\n",
       "        vertical-align: middle;\n",
       "    }\n",
       "\n",
       "    .dataframe tbody tr th {\n",
       "        vertical-align: top;\n",
       "    }\n",
       "\n",
       "    .dataframe thead th {\n",
       "        text-align: right;\n",
       "    }\n",
       "</style>\n",
       "<table border=\"1\" class=\"dataframe\">\n",
       "  <thead>\n",
       "    <tr style=\"text-align: right;\">\n",
       "      <th></th>\n",
       "      <th>radius_mean</th>\n",
       "      <th>area_mean</th>\n",
       "      <th>compactness_mean</th>\n",
       "    </tr>\n",
       "  </thead>\n",
       "  <tbody>\n",
       "    <tr>\n",
       "      <th>radius_mean</th>\n",
       "      <td>1.000000</td>\n",
       "      <td>0.987357</td>\n",
       "      <td>0.506124</td>\n",
       "    </tr>\n",
       "    <tr>\n",
       "      <th>area_mean</th>\n",
       "      <td>0.987357</td>\n",
       "      <td>1.000000</td>\n",
       "      <td>0.498502</td>\n",
       "    </tr>\n",
       "    <tr>\n",
       "      <th>compactness_mean</th>\n",
       "      <td>0.506124</td>\n",
       "      <td>0.498502</td>\n",
       "      <td>1.000000</td>\n",
       "    </tr>\n",
       "  </tbody>\n",
       "</table>\n",
       "</div>"
      ],
      "text/plain": [
       "                  radius_mean  area_mean  compactness_mean\n",
       "radius_mean          1.000000   0.987357          0.506124\n",
       "area_mean            0.987357   1.000000          0.498502\n",
       "compactness_mean     0.506124   0.498502          1.000000"
      ]
     },
     "execution_count": 23,
     "metadata": {},
     "output_type": "execute_result"
    }
   ],
   "source": [
    "df_corr = filtered_data.corr()\n",
    "df_corr # tüm veri kayıtları için feature'lerın korelasyonunu gösterir\n"
   ]
  },
  {
   "cell_type": "markdown",
   "id": "finished-ecology",
   "metadata": {},
   "source": [
    "Korelasyon değeri -1 ve 1 arasında değerler alır. 1'e yakın değerler pozitif yönde güçlü korelasyonu,\n",
    "-1'e yakın değerler güçlü negatif korelasyonu gösterir. 0'ya yakın değerler için iki feature arasında korelasyonun zayıf olduğunu/ olmadığını söyleyebiliriz."
   ]
  },
  {
   "cell_type": "code",
   "execution_count": 24,
   "id": "pediatric-enterprise",
   "metadata": {},
   "outputs": [
    {
     "data": {
      "text/html": [
       "<div>\n",
       "<style scoped>\n",
       "    .dataframe tbody tr th:only-of-type {\n",
       "        vertical-align: middle;\n",
       "    }\n",
       "\n",
       "    .dataframe tbody tr th {\n",
       "        vertical-align: top;\n",
       "    }\n",
       "\n",
       "    .dataframe thead th {\n",
       "        text-align: right;\n",
       "    }\n",
       "</style>\n",
       "<table border=\"1\" class=\"dataframe\">\n",
       "  <thead>\n",
       "    <tr style=\"text-align: right;\">\n",
       "      <th></th>\n",
       "      <th>radius_mean</th>\n",
       "      <th>area_mean</th>\n",
       "      <th>compactness_mean</th>\n",
       "    </tr>\n",
       "  </thead>\n",
       "  <tbody>\n",
       "    <tr>\n",
       "      <th>19</th>\n",
       "      <td>13.540</td>\n",
       "      <td>566.3</td>\n",
       "      <td>0.08129</td>\n",
       "    </tr>\n",
       "    <tr>\n",
       "      <th>20</th>\n",
       "      <td>13.080</td>\n",
       "      <td>520.0</td>\n",
       "      <td>0.12700</td>\n",
       "    </tr>\n",
       "    <tr>\n",
       "      <th>21</th>\n",
       "      <td>9.504</td>\n",
       "      <td>273.9</td>\n",
       "      <td>0.06492</td>\n",
       "    </tr>\n",
       "    <tr>\n",
       "      <th>37</th>\n",
       "      <td>13.030</td>\n",
       "      <td>523.8</td>\n",
       "      <td>0.03766</td>\n",
       "    </tr>\n",
       "    <tr>\n",
       "      <th>46</th>\n",
       "      <td>8.196</td>\n",
       "      <td>201.9</td>\n",
       "      <td>0.05943</td>\n",
       "    </tr>\n",
       "    <tr>\n",
       "      <th>...</th>\n",
       "      <td>...</td>\n",
       "      <td>...</td>\n",
       "      <td>...</td>\n",
       "    </tr>\n",
       "    <tr>\n",
       "      <th>558</th>\n",
       "      <td>14.590</td>\n",
       "      <td>657.1</td>\n",
       "      <td>0.13300</td>\n",
       "    </tr>\n",
       "    <tr>\n",
       "      <th>559</th>\n",
       "      <td>11.510</td>\n",
       "      <td>403.5</td>\n",
       "      <td>0.10210</td>\n",
       "    </tr>\n",
       "    <tr>\n",
       "      <th>560</th>\n",
       "      <td>14.050</td>\n",
       "      <td>600.4</td>\n",
       "      <td>0.11260</td>\n",
       "    </tr>\n",
       "    <tr>\n",
       "      <th>561</th>\n",
       "      <td>11.200</td>\n",
       "      <td>386.0</td>\n",
       "      <td>0.03558</td>\n",
       "    </tr>\n",
       "    <tr>\n",
       "      <th>568</th>\n",
       "      <td>7.760</td>\n",
       "      <td>181.0</td>\n",
       "      <td>0.04362</td>\n",
       "    </tr>\n",
       "  </tbody>\n",
       "</table>\n",
       "<p>357 rows × 3 columns</p>\n",
       "</div>"
      ],
      "text/plain": [
       "     radius_mean  area_mean  compactness_mean\n",
       "19        13.540      566.3           0.08129\n",
       "20        13.080      520.0           0.12700\n",
       "21         9.504      273.9           0.06492\n",
       "37        13.030      523.8           0.03766\n",
       "46         8.196      201.9           0.05943\n",
       "..           ...        ...               ...\n",
       "558       14.590      657.1           0.13300\n",
       "559       11.510      403.5           0.10210\n",
       "560       14.050      600.4           0.11260\n",
       "561       11.200      386.0           0.03558\n",
       "568        7.760      181.0           0.04362\n",
       "\n",
       "[357 rows x 3 columns]"
      ]
     },
     "execution_count": 24,
     "metadata": {},
     "output_type": "execute_result"
    }
   ],
   "source": [
    "bening_data = filtered_data[data[\"diagnosis\"]==\"B\"]\n",
    "bening_data"
   ]
  },
  {
   "cell_type": "code",
   "execution_count": 25,
   "id": "great-penalty",
   "metadata": {},
   "outputs": [
    {
     "data": {
      "text/plain": [
       "<AxesSubplot:>"
      ]
     },
     "execution_count": 25,
     "metadata": {},
     "output_type": "execute_result"
    },
    {
     "data": {
      "image/png": "[encoded data removed]",
      "text/plain": [
       "<Figure size 432x288 with 2 Axes>"
      ]
     },
     "metadata": {
      "needs_background": "light"
     },
     "output_type": "display_data"
    }
   ],
   "source": [
    "import seaborn as sns\n",
    "\n",
    "#bening_corr = bening_data.corr()\n",
    "\n",
    "sns.heatmap(bening_data.corr(), annot = True,  linewidths=.5, cmap=sns.color_palette(\"coolwarm\"))\n",
    "           "
   ]
  },
  {
   "cell_type": "code",
   "execution_count": 26,
   "id": "contemporary-mexico",
   "metadata": {},
   "outputs": [
    {
     "data": {
      "text/html": [
       "<div>\n",
       "<style scoped>\n",
       "    .dataframe tbody tr th:only-of-type {\n",
       "        vertical-align: middle;\n",
       "    }\n",
       "\n",
       "    .dataframe tbody tr th {\n",
       "        vertical-align: top;\n",
       "    }\n",
       "\n",
       "    .dataframe thead th {\n",
       "        text-align: right;\n",
       "    }\n",
       "</style>\n",
       "<table border=\"1\" class=\"dataframe\">\n",
       "  <thead>\n",
       "    <tr style=\"text-align: right;\">\n",
       "      <th></th>\n",
       "      <th>radius_mean</th>\n",
       "      <th>area_mean</th>\n",
       "      <th>compactness_mean</th>\n",
       "    </tr>\n",
       "  </thead>\n",
       "  <tbody>\n",
       "    <tr>\n",
       "      <th>radius_mean</th>\n",
       "      <td>1.000000</td>\n",
       "      <td>0.994435</td>\n",
       "      <td>0.060442</td>\n",
       "    </tr>\n",
       "    <tr>\n",
       "      <th>area_mean</th>\n",
       "      <td>0.994435</td>\n",
       "      <td>1.000000</td>\n",
       "      <td>0.052353</td>\n",
       "    </tr>\n",
       "    <tr>\n",
       "      <th>compactness_mean</th>\n",
       "      <td>0.060442</td>\n",
       "      <td>0.052353</td>\n",
       "      <td>1.000000</td>\n",
       "    </tr>\n",
       "  </tbody>\n",
       "</table>\n",
       "</div>"
      ],
      "text/plain": [
       "                  radius_mean  area_mean  compactness_mean\n",
       "radius_mean          1.000000   0.994435          0.060442\n",
       "area_mean            0.994435   1.000000          0.052353\n",
       "compactness_mean     0.060442   0.052353          1.000000"
      ]
     },
     "execution_count": 26,
     "metadata": {},
     "output_type": "execute_result"
    }
   ],
   "source": [
    "bening_data.corr()"
   ]
  },
  {
   "cell_type": "code",
   "execution_count": 27,
   "id": "satisfied-increase",
   "metadata": {},
   "outputs": [
    {
     "data": {
      "text/html": [
       "<div>\n",
       "<style scoped>\n",
       "    .dataframe tbody tr th:only-of-type {\n",
       "        vertical-align: middle;\n",
       "    }\n",
       "\n",
       "    .dataframe tbody tr th {\n",
       "        vertical-align: top;\n",
       "    }\n",
       "\n",
       "    .dataframe thead th {\n",
       "        text-align: right;\n",
       "    }\n",
       "</style>\n",
       "<table border=\"1\" class=\"dataframe\">\n",
       "  <thead>\n",
       "    <tr style=\"text-align: right;\">\n",
       "      <th></th>\n",
       "      <th>radius_mean</th>\n",
       "      <th>area_mean</th>\n",
       "      <th>compactness_mean</th>\n",
       "    </tr>\n",
       "  </thead>\n",
       "  <tbody>\n",
       "    <tr>\n",
       "      <th>0</th>\n",
       "      <td>17.99</td>\n",
       "      <td>1001.0</td>\n",
       "      <td>0.27760</td>\n",
       "    </tr>\n",
       "    <tr>\n",
       "      <th>1</th>\n",
       "      <td>20.57</td>\n",
       "      <td>1326.0</td>\n",
       "      <td>0.07864</td>\n",
       "    </tr>\n",
       "    <tr>\n",
       "      <th>2</th>\n",
       "      <td>19.69</td>\n",
       "      <td>1203.0</td>\n",
       "      <td>0.15990</td>\n",
       "    </tr>\n",
       "    <tr>\n",
       "      <th>3</th>\n",
       "      <td>11.42</td>\n",
       "      <td>386.1</td>\n",
       "      <td>0.28390</td>\n",
       "    </tr>\n",
       "    <tr>\n",
       "      <th>4</th>\n",
       "      <td>20.29</td>\n",
       "      <td>1297.0</td>\n",
       "      <td>0.13280</td>\n",
       "    </tr>\n",
       "    <tr>\n",
       "      <th>...</th>\n",
       "      <td>...</td>\n",
       "      <td>...</td>\n",
       "      <td>...</td>\n",
       "    </tr>\n",
       "    <tr>\n",
       "      <th>563</th>\n",
       "      <td>20.92</td>\n",
       "      <td>1347.0</td>\n",
       "      <td>0.22360</td>\n",
       "    </tr>\n",
       "    <tr>\n",
       "      <th>564</th>\n",
       "      <td>21.56</td>\n",
       "      <td>1479.0</td>\n",
       "      <td>0.11590</td>\n",
       "    </tr>\n",
       "    <tr>\n",
       "      <th>565</th>\n",
       "      <td>20.13</td>\n",
       "      <td>1261.0</td>\n",
       "      <td>0.10340</td>\n",
       "    </tr>\n",
       "    <tr>\n",
       "      <th>566</th>\n",
       "      <td>16.60</td>\n",
       "      <td>858.1</td>\n",
       "      <td>0.10230</td>\n",
       "    </tr>\n",
       "    <tr>\n",
       "      <th>567</th>\n",
       "      <td>20.60</td>\n",
       "      <td>1265.0</td>\n",
       "      <td>0.27700</td>\n",
       "    </tr>\n",
       "  </tbody>\n",
       "</table>\n",
       "<p>212 rows × 3 columns</p>\n",
       "</div>"
      ],
      "text/plain": [
       "     radius_mean  area_mean  compactness_mean\n",
       "0          17.99     1001.0           0.27760\n",
       "1          20.57     1326.0           0.07864\n",
       "2          19.69     1203.0           0.15990\n",
       "3          11.42      386.1           0.28390\n",
       "4          20.29     1297.0           0.13280\n",
       "..           ...        ...               ...\n",
       "563        20.92     1347.0           0.22360\n",
       "564        21.56     1479.0           0.11590\n",
       "565        20.13     1261.0           0.10340\n",
       "566        16.60      858.1           0.10230\n",
       "567        20.60     1265.0           0.27700\n",
       "\n",
       "[212 rows x 3 columns]"
      ]
     },
     "execution_count": 27,
     "metadata": {},
     "output_type": "execute_result"
    }
   ],
   "source": [
    "malign_data = filtered_data[data[\"diagnosis\"]==\"M\"]\n",
    "malign_data"
   ]
  },
  {
   "cell_type": "code",
   "execution_count": 28,
   "id": "flush-sixth",
   "metadata": {},
   "outputs": [
    {
     "data": {
      "text/plain": [
       "<AxesSubplot:>"
      ]
     },
     "execution_count": 28,
     "metadata": {},
     "output_type": "execute_result"
    },
    {
     "data": {
      "image/png": "[encoded data removed]",
      "text/plain": [
       "<Figure size 432x288 with 2 Axes>"
      ]
     },
     "metadata": {
      "needs_background": "light"
     },
     "output_type": "display_data"
    }
   ],
   "source": [
    "sns.heatmap(malign_data.corr(), annot = True,  linewidths=.5, cmap=sns.color_palette(\"coolwarm\"))"
   ]
  },
  {
   "cell_type": "markdown",
   "id": "still-recommendation",
   "metadata": {},
   "source": [
    "Veriyi hastalık tipi olarak malign ve bening ayırmadığımızda feature'ların korelasyon değerlerinde değişiklik olsa da görüyoruz ki iki seçenek için de radius_mean ve area_mean güçlü pozitif korelasyona sahip.\n",
    "\n",
    "Malign verilerde compactness_mean ile radius_mean ve  compactness_mean ile area_mean arasındaki korelasyon Bening verilerin arasındakine göre fazla.\n",
    "\n",
    "Veriye bir bütün olarak baktığımızda feature'lar arasındaki korelasyonun daha yüksek olduğunuz gözlemliyoruz."
   ]
  },
  {
   "attachments": {},
   "cell_type": "markdown",
   "id": "wrong-looking",
   "metadata": {},
   "source": [
    "#### Veriye bir bütün olarak bakmaya (Bening-Malign ayırmadan) bakmaya devam edersek feature'ların kovaryansları, pearson ve spearman korelasyonları aşağıdaki gibi hesaplanır:\n"
   ]
  },
  {
   "cell_type": "code",
   "execution_count": 29,
   "id": "placed-overhead",
   "metadata": {},
   "outputs": [
    {
     "data": {
      "text/html": [
       "<div>\n",
       "<style scoped>\n",
       "    .dataframe tbody tr th:only-of-type {\n",
       "        vertical-align: middle;\n",
       "    }\n",
       "\n",
       "    .dataframe tbody tr th {\n",
       "        vertical-align: top;\n",
       "    }\n",
       "\n",
       "    .dataframe thead th {\n",
       "        text-align: right;\n",
       "    }\n",
       "</style>\n",
       "<table border=\"1\" class=\"dataframe\">\n",
       "  <thead>\n",
       "    <tr style=\"text-align: right;\">\n",
       "      <th></th>\n",
       "      <th>radius_mean</th>\n",
       "      <th>area_mean</th>\n",
       "      <th>compactness_mean</th>\n",
       "    </tr>\n",
       "  </thead>\n",
       "  <tbody>\n",
       "    <tr>\n",
       "      <th>radius_mean</th>\n",
       "      <td>12.418920</td>\n",
       "      <td>1224.483409</td>\n",
       "      <td>0.094197</td>\n",
       "    </tr>\n",
       "    <tr>\n",
       "      <th>area_mean</th>\n",
       "      <td>1224.483409</td>\n",
       "      <td>123843.554318</td>\n",
       "      <td>9.264931</td>\n",
       "    </tr>\n",
       "    <tr>\n",
       "      <th>compactness_mean</th>\n",
       "      <td>0.094197</td>\n",
       "      <td>9.264931</td>\n",
       "      <td>0.002789</td>\n",
       "    </tr>\n",
       "  </tbody>\n",
       "</table>\n",
       "</div>"
      ],
      "text/plain": [
       "                  radius_mean      area_mean  compactness_mean\n",
       "radius_mean         12.418920    1224.483409          0.094197\n",
       "area_mean         1224.483409  123843.554318          9.264931\n",
       "compactness_mean     0.094197       9.264931          0.002789"
      ]
     },
     "execution_count": 29,
     "metadata": {},
     "output_type": "execute_result"
    }
   ],
   "source": [
    "cov = filtered_data.cov()\n",
    "cov\n",
    "\n",
    "# feature'lar arası koveryans değerleri hesaplanır"
   ]
  },
  {
   "cell_type": "code",
   "execution_count": 30,
   "id": "agricultural-musician",
   "metadata": {},
   "outputs": [
    {
     "data": {
      "text/html": [
       "<div>\n",
       "<style scoped>\n",
       "    .dataframe tbody tr th:only-of-type {\n",
       "        vertical-align: middle;\n",
       "    }\n",
       "\n",
       "    .dataframe tbody tr th {\n",
       "        vertical-align: top;\n",
       "    }\n",
       "\n",
       "    .dataframe thead th {\n",
       "        text-align: right;\n",
       "    }\n",
       "</style>\n",
       "<table border=\"1\" class=\"dataframe\">\n",
       "  <thead>\n",
       "    <tr style=\"text-align: right;\">\n",
       "      <th></th>\n",
       "      <th>radius_mean</th>\n",
       "      <th>area_mean</th>\n",
       "      <th>compactness_mean</th>\n",
       "    </tr>\n",
       "  </thead>\n",
       "  <tbody>\n",
       "    <tr>\n",
       "      <th>radius_mean</th>\n",
       "      <td>1.000000</td>\n",
       "      <td>0.987357</td>\n",
       "      <td>0.506124</td>\n",
       "    </tr>\n",
       "    <tr>\n",
       "      <th>area_mean</th>\n",
       "      <td>0.987357</td>\n",
       "      <td>1.000000</td>\n",
       "      <td>0.498502</td>\n",
       "    </tr>\n",
       "    <tr>\n",
       "      <th>compactness_mean</th>\n",
       "      <td>0.506124</td>\n",
       "      <td>0.498502</td>\n",
       "      <td>1.000000</td>\n",
       "    </tr>\n",
       "  </tbody>\n",
       "</table>\n",
       "</div>"
      ],
      "text/plain": [
       "                  radius_mean  area_mean  compactness_mean\n",
       "radius_mean          1.000000   0.987357          0.506124\n",
       "area_mean            0.987357   1.000000          0.498502\n",
       "compactness_mean     0.506124   0.498502          1.000000"
      ]
     },
     "execution_count": 30,
     "metadata": {},
     "output_type": "execute_result"
    }
   ],
   "source": [
    "pearson_cor = filtered_data.corr(method=\"pearson\")\n",
    "pearson_cor"
   ]
  },
  {
   "cell_type": "code",
   "execution_count": 31,
   "id": "whole-affect",
   "metadata": {},
   "outputs": [
    {
     "data": {
      "text/plain": [
       "SpearmanrResult(correlation=array([[1.        , 0.99960203, 0.49757761],\n",
       "       [0.99960203, 1.        , 0.4889884 ],\n",
       "       [0.49757761, 0.4889884 , 1.        ]]), pvalue=array([[0.00000000e+00, 0.00000000e+00, 6.33492414e-37],\n",
       "       [0.00000000e+00, 0.00000000e+00, 1.54195152e-35],\n",
       "       [6.33492414e-37, 1.54195152e-35, 0.00000000e+00]]))"
      ]
     },
     "execution_count": 31,
     "metadata": {},
     "output_type": "execute_result"
    }
   ],
   "source": [
    "from scipy.stats import spearmanr\n",
    "\n",
    "spearman_rank_coef = spearmanr(filtered_data)\n",
    "spearman_rank_coef\n",
    "\n",
    "# korelasyon ve p-value değerleri birlikte verilir"
   ]
  },
  {
   "cell_type": "code",
   "execution_count": 32,
   "id": "female-hypothesis",
   "metadata": {},
   "outputs": [
    {
     "data": {
      "text/plain": [
       "array([[1.        , 0.99960203, 0.49757761],\n",
       "       [0.99960203, 1.        , 0.4889884 ],\n",
       "       [0.49757761, 0.4889884 , 1.        ]])"
      ]
     },
     "execution_count": 32,
     "metadata": {},
     "output_type": "execute_result"
    }
   ],
   "source": [
    "spearman_rank_coef[0] # sadece spearman korelasyonunu görmek istersek"
   ]
  },
  {
   "cell_type": "markdown",
   "id": "comfortable-audit",
   "metadata": {},
   "source": [
    "#### Effect size, iki grubun istatiksel olarak farklılığını ölçer.   Bening (kanser olmayan) ve Malign (kötü huylu) tümörler için, feature'ların effect size'larını ölçersek;\n"
   ]
  },
  {
   "cell_type": "code",
   "execution_count": 33,
   "id": "standing-weight",
   "metadata": {},
   "outputs": [
    {
     "name": "stdout",
     "output_type": "stream",
     "text": [
      "radius_mean feature'ının etki büyüklüğü :  -2.2054634515707545\n",
      "area_mean feature'ının etki büyüklüğü :  -2.0756514409593456\n",
      "compactness_mean feature'ının etki büyüklüğü :  -1.5345742415951857\n"
     ]
    }
   ],
   "source": [
    "import math \n",
    "\n",
    "for column in (bening_data.columns):\n",
    "    mean_diff = (bening_data[column].mean() - malign_data[column].mean())\n",
    "    nominator  = (len(bening_data)-1) * (bening_data[column].std()**2) + (len(malign_data)-1) * (malign_data[column].std()**2)\n",
    "    denominator = len(bening_data) + len(malign_data) - 2\n",
    "    std_pooled = math.sqrt(nominator/denominator)\n",
    "    effect_size = mean_diff/std_pooled\n",
    "    print(\"{0} feature'ının etki büyüklüğü : \".format(column), effect_size)"
   ]
  },
  {
   "attachments": {
    "effect_size.png": {
     "image/png": "[encoded data removed]"
    }
   },
   "cell_type": "markdown",
   "id": "rough-limit",
   "metadata": {},
   "source": [
    "\n",
    "![effect_size.png](attachment:effect_size.png)\n",
    "\n",
    "                                                Şekil. Cohen's d effect size formula"
   ]
  },
  {
   "cell_type": "markdown",
   "id": "official-suspension",
   "metadata": {},
   "source": [
    "Bening ve Malign verilerindeki feature değerlerinin birbirinden büyük oranda farklı olduğunu yorumlayabiliriz."
   ]
  },
  {
   "cell_type": "code",
   "execution_count": 34,
   "id": "stone-conjunction",
   "metadata": {},
   "outputs": [
    {
     "data": {
      "text/html": [
       "<div>\n",
       "<style scoped>\n",
       "    .dataframe tbody tr th:only-of-type {\n",
       "        vertical-align: middle;\n",
       "    }\n",
       "\n",
       "    .dataframe tbody tr th {\n",
       "        vertical-align: top;\n",
       "    }\n",
       "\n",
       "    .dataframe thead th {\n",
       "        text-align: right;\n",
       "    }\n",
       "</style>\n",
       "<table border=\"1\" class=\"dataframe\">\n",
       "  <thead>\n",
       "    <tr style=\"text-align: right;\">\n",
       "      <th></th>\n",
       "      <th>area_mean</th>\n",
       "      <th>diagnosis</th>\n",
       "    </tr>\n",
       "  </thead>\n",
       "  <tbody>\n",
       "    <tr>\n",
       "      <th>0</th>\n",
       "      <td>1001.0</td>\n",
       "      <td>M</td>\n",
       "    </tr>\n",
       "    <tr>\n",
       "      <th>1</th>\n",
       "      <td>1326.0</td>\n",
       "      <td>M</td>\n",
       "    </tr>\n",
       "    <tr>\n",
       "      <th>2</th>\n",
       "      <td>1203.0</td>\n",
       "      <td>M</td>\n",
       "    </tr>\n",
       "    <tr>\n",
       "      <th>3</th>\n",
       "      <td>386.1</td>\n",
       "      <td>M</td>\n",
       "    </tr>\n",
       "    <tr>\n",
       "      <th>4</th>\n",
       "      <td>1297.0</td>\n",
       "      <td>M</td>\n",
       "    </tr>\n",
       "    <tr>\n",
       "      <th>...</th>\n",
       "      <td>...</td>\n",
       "      <td>...</td>\n",
       "    </tr>\n",
       "    <tr>\n",
       "      <th>564</th>\n",
       "      <td>1479.0</td>\n",
       "      <td>M</td>\n",
       "    </tr>\n",
       "    <tr>\n",
       "      <th>565</th>\n",
       "      <td>1261.0</td>\n",
       "      <td>M</td>\n",
       "    </tr>\n",
       "    <tr>\n",
       "      <th>566</th>\n",
       "      <td>858.1</td>\n",
       "      <td>M</td>\n",
       "    </tr>\n",
       "    <tr>\n",
       "      <th>567</th>\n",
       "      <td>1265.0</td>\n",
       "      <td>M</td>\n",
       "    </tr>\n",
       "    <tr>\n",
       "      <th>568</th>\n",
       "      <td>181.0</td>\n",
       "      <td>B</td>\n",
       "    </tr>\n",
       "  </tbody>\n",
       "</table>\n",
       "<p>569 rows × 2 columns</p>\n",
       "</div>"
      ],
      "text/plain": [
       "     area_mean diagnosis\n",
       "0       1001.0         M\n",
       "1       1326.0         M\n",
       "2       1203.0         M\n",
       "3        386.1         M\n",
       "4       1297.0         M\n",
       "..         ...       ...\n",
       "564     1479.0         M\n",
       "565     1261.0         M\n",
       "566      858.1         M\n",
       "567     1265.0         M\n",
       "568      181.0         B\n",
       "\n",
       "[569 rows x 2 columns]"
      ]
     },
     "execution_count": 34,
     "metadata": {},
     "output_type": "execute_result"
    }
   ],
   "source": [
    "filter2 = [\"area_mean\",\"diagnosis\"]\n",
    "vis = data[filter2]\n",
    "vis"
   ]
  },
  {
   "cell_type": "code",
   "execution_count": 35,
   "id": "supported-cologne",
   "metadata": {},
   "outputs": [
    {
     "data": {
      "text/plain": [
       "<AxesSubplot:xlabel='area_mean', ylabel='Count'>"
      ]
     },
     "execution_count": 35,
     "metadata": {},
     "output_type": "execute_result"
    },
    {
     "data": {
      "image/png": "[encoded data removed]",
      "text/plain": [
       "<Figure size 432x288 with 1 Axes>"
      ]
     },
     "metadata": {
      "needs_background": "light"
     },
     "output_type": "display_data"
    }
   ],
   "source": [
    "sns.histplot(vis, x = vis[\"area_mean\"],hue = \"diagnosis\")"
   ]
  },
  {
   "cell_type": "markdown",
   "id": "focal-bundle",
   "metadata": {},
   "source": [
    "#### İyi (Bening) ve kötü (Malign) huylu tümörlerin area_mean değerleri yukarıdaki gibi dağılım sergilemektedir. Görselde görülmektedir ki, iki tümör çeşidindeki area_mean değeri birbirinden oldukça farklıdır."
   ]
  },
  {
   "cell_type": "markdown",
   "id": "automotive-duncan",
   "metadata": {},
   "source": [
    "### _Q4 : Bayes Teoreminin gerçek hayatta karşımıza çıkan ve kullanılan örneklerinden 5 tane bulalım._\n",
    "\n",
    "- [Su kirliliği ve kalitesi problemlerinde](https://www.accessscience.com/content/applications-of-bayes-theorem-for-predicting-environmental-damage/YB100249)\n",
    "- [biyolojik örneklerin analizi (drug screening)](https://towardsdatascience.com/bayes-rule-with-a-simple-and-practical-example-2bce3d0f4ad0)\n",
    "- [Kanser testleri (mamograf)](https://www.statisticshowto.com/probability-and-statistics/probability-main-index/bayes-theorem-problems/)\n",
    "- [Depresyon testlerinin performans değerlendirmesi](https://www.frontiersin.org/articles/10.3389/fpsyg.2018.01240/full)\n",
    "- [Arkadaş/partner seçimi](https://blogs.cornell.edu/info2040/2018/11/19/bayes-theorem-application-in-everyday-life/)\n",
    "\n",
    "\n"
   ]
  },
  {
   "cell_type": "markdown",
   "id": "trying-single",
   "metadata": {},
   "source": [
    "### _Q5: Poisson, Normal , Gamma, Weilbull ve Logaritmik dağılımların benzer ve farklı yönlerini bir tablo halinde çıkaralım._"
   ]
  },
  {
   "cell_type": "markdown",
   "id": "stunning-thunder",
   "metadata": {},
   "source": [
    "-  Poisson dağılımı, bir belgedeki dakika başına telefon görüşmesi sayısı veya sayfa başına hata sayısı gibi belirli bir aralıkta bir olayın meydana gelme sayısını tanımlar.\n",
    "Poisson dağılımının altında yatan üç koşul şunlardır:\n",
    "    - Herhangi bir aralıktaki olası oluşumların sayısı sınırsızdır. \n",
    "    - Olaylar bağımsızdır. Bir aralıktaki oluşum sayısı, diğer aralıklardaki oluşum sayısını etkilemez.\n",
    "    - Ortalama oluşum sayısı aralıktan aralığa aynı kalmalıdır.\n",
    "  - Parametreleri:  λ the rate (mean)"
   ]
  },
  {
   "cell_type": "markdown",
   "id": "electoral-might",
   "metadata": {},
   "source": [
    "- Normal dağılım, insanların IQ'ları veya boyları gibi birçok doğal fenomeni tanımladığı için olasılık teorisindeki \n",
    "en önemli dağılımdır. Karar vericiler, enflasyon oranı veya gelecekteki benzin fiyatı gibi belirsiz değişkenleri \n",
    "tanımlamak için normal dağılımı kullanabilir.\n",
    "Normal dağılımın altında yatan üç koşul şunlardır:\n",
    "\n",
    "    - Belirsiz değişkenin bazı değerleri en olası olanıdır (dağılımın ortalaması).\n",
    "    - Belirsiz değişken, ortalamanın altında olabileceği kadar ortalamanın üzerinde de olabilir (ortalama hakkında simetrik).\n",
    "    - Belirsiz değişkenin, ortalamanın yakınında olması daha uzak olmaktan daha olasıdır.\n",
    "        - Parametreleri: mean(ortalama), std (standart sapma)"
   ]
  },
  {
   "cell_type": "markdown",
   "id": "adaptive-certification",
   "metadata": {},
   "source": [
    "- Gamma dağılımı, çok çeşitli fiziksel nicelikler için geçerlidir ve diğer dağılımlarla ilişkilidir: lognormal, üstel, Pascal, Erlang, Poisson ve ki-kare. Kirletici konsantrasyonlarını ve yağış miktarlarını temsil etmek için meteorolojik süreçlerde kullanılır. Gama dağılımı, olay süreci tamamen rastgele olmadığında, olayların meydana gelmesi arasındaki süreyi ölçmek için de kullanılır.\n",
    "Gama dağılımının diğer uygulamaları, envanter kontrolü, ekonomik teori ve sigorta risk teorisini içerir. Gama dağılımı, çoğunlukla bir Poisson sürecinde bir olayın r. meydana gelmesine kadar geçen sürenin dağılımı olarak kullanılır. Bu şekilde kullanıldığında, gama dağılımının altında yatan üç koşul şunlardır:\n",
    "    - Herhangi bir ölçü birimindeki olası oluşumların sayısı sabit bir sayı ile sınırlı değildir.\n",
    "    - Olaylar bağımsızdır. Bir ölçü birimindeki olay sayısı, diğer birimlerdeki olay sayısını etkilemez.\n",
    "    - Ortalama oluşum sayısı birimden birime aynı kalmalıdır.\n",
    "        -  Parametreleri: α = rate parameter, β scale parameter."
   ]
  },
  {
   "cell_type": "markdown",
   "id": "biblical-deviation",
   "metadata": {},
   "source": [
    "- Weibull dağılımı, ömür ve yorulma testlerinden elde edilen verileri tanımlar. Güvenilirlik (reliability) çalışmalarında hata süresini ve güvenilirlik ve kalite kontrol testlerinde malzemelerin kırılma mukavemetlerini tanımlamak için yaygın olarak kullanılır. Weibull dağılımları, rüzgar hızı gibi çeşitli fiziksel nicelikleri temsil etmek için de kullanılır.\n",
    "Weibull dağılımı, diğer birçok dağılımın özelliklerini üstlenebilen bir dağılım ailesidir. Örneğin, tanımladığınız şekil parametresine bağlı olarak, diğerlerinin yanı sıra üstel ve Rayleigh dağılımlarını modellemek için Weibull dağılımı kullanılabilir. Weibull dağılımı çok esnektir. Weibull şekil parametresi 1.0'a eşit olduğunda, Weibull dağılımı üstel dağılımla aynıdır.\n",
    "Weibull konum parametresi, 0.0'dan farklı bir konumdan başlamak için bir üstel dağılım ayarlamanıza olanak tanır. Şekil parametresi 1.0'dan küçük olduğunda, Weibull dağılımı hızla azalan bir eğri haline gelir. Bir üretici, bu etkiyi, bir yanma periyodu sırasında parça arızalarını tanımlamada faydalı bulabilir.\n",
    "        - Parametreleri:  α = rate parameter,  β = scale parameter"
   ]
  },
  {
   "cell_type": "markdown",
   "id": "strange-onion",
   "metadata": {},
   "source": [
    "- Lognormal (logaritmik) dağılım, değerlerin pozitif olarak çarpık olduğu durumlarda, örneğin menkul kıymet değerlemesi için finansal analizde veya mülk değerlemesi için gayrimenkulde ve değerlerin sıfırın altına düşemeyeceği durumlarda yaygın olarak kullanılır.\n",
    "Hisse senedi fiyatları, normal (simetrik) dağılımdan ziyade genellikle pozitif çarpıktır. Hisse senedi fiyatları bu eğilimi sergilemektedir çünkü sıfırın alt sınırının altına düşemezler, ancak sınırsız herhangi bir fiyata yükselebilirler. Benzer şekilde, gayrimenkul fiyatları pozitif çarpıklık gösterir ve mülk değerleri olarak lognormal olarak dağılır.\n",
    "olumsuz olamaz.\n",
    "Lognormal dağılımın altında yatan üç koşul şunlardır:\n",
    "    - Belirsiz değişken sınırsız olarak artabilir ancak sıfırın altına düşemez.\n",
    "    - Belirsiz değişken, değerlerin çoğu alt sınıra yakın olacak şekilde pozitif olarak çarpıktır.\n",
    "    - Belirsiz değişkenin doğal logaritması normal bir dağılım verir.\n",
    "        - Parametreleri:  μ = location parameter, σ = scale parameter.\n",
    "       "
   ]
  },
  {
   "cell_type": "markdown",
   "id": "dated-princess",
   "metadata": {},
   "source": [
    "> kaynaklar: [1](https://onlinelibrary.wiley.com/doi/pdf/10.1002/9781119197096.app03), [2](https://www.causeweb.org/cause/archive/repository/statjava/Distributions.html#LOGNORMAL), [3](https://corporatefinanceinstitute.com/resources/knowledge/other/normal-distribution/)"
   ]
  }
 ],
 "metadata": {
  "kernelspec": {
   "display_name": "Python 3",
   "language": "python",
   "name": "python3"
  },
  "language_info": {
   "codemirror_mode": {
    "name": "ipython",
    "version": 3
   },
   "file_extension": ".py",
   "mimetype": "text/x-python",
   "name": "python",
   "nbconvert_exporter": "python",
   "pygments_lexer": "ipython3",
   "version": "3.7.1"
  }
 },
 "nbformat": 4,
 "nbformat_minor": 5
}
